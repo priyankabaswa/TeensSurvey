{
  "nbformat": 4,
  "nbformat_minor": 0,
  "metadata": {
    "colab": {
      "name": "teens_survey.ipynb",
      "provenance": [],
      "collapsed_sections": [],
      "authorship_tag": "ABX9TyOYaEflGUi6q1rS9L6XadCN",
      "include_colab_link": true
    },
    "kernelspec": {
      "name": "python3",
      "display_name": "Python 3"
    },
    "language_info": {
      "name": "python"
    }
  },
  "cells": [
    {
      "cell_type": "markdown",
      "metadata": {
        "id": "view-in-github",
        "colab_type": "text"
      },
      "source": [
        "<a href=\"https://colab.research.google.com/github/priyankabaswa/TeensSurvey/blob/main/teens_survey.ipynb\" target=\"_parent\"><img src=\"https://colab.research.google.com/assets/colab-badge.svg\" alt=\"Open In Colab\"/></a>"
      ]
    },
    {
      "cell_type": "code",
      "metadata": {
        "colab": {
          "base_uri": "https://localhost:8080/"
        },
        "id": "7GXN3nAc0kxP",
        "outputId": "78bcf7ce-7de8-4563-84df-18291595fa9e"
      },
      "source": [
        "pip install pyreadstat"
      ],
      "execution_count": 2,
      "outputs": [
        {
          "output_type": "stream",
          "text": [
            "Collecting pyreadstat\n",
            "\u001b[?25l  Downloading https://files.pythonhosted.org/packages/10/15/9e24c4280d3fe1f18932bf1ef18ccaff7b95f1dc1f9085e08de4e1dade8e/pyreadstat-1.1.2-cp37-cp37m-manylinux2014_x86_64.whl (2.5MB)\n",
            "\u001b[K     |████████████████████████████████| 2.5MB 5.2MB/s \n",
            "\u001b[?25hRequirement already satisfied: pandas>0.24.0 in /usr/local/lib/python3.7/dist-packages (from pyreadstat) (1.1.5)\n",
            "Requirement already satisfied: pytz>=2017.2 in /usr/local/lib/python3.7/dist-packages (from pandas>0.24.0->pyreadstat) (2018.9)\n",
            "Requirement already satisfied: python-dateutil>=2.7.3 in /usr/local/lib/python3.7/dist-packages (from pandas>0.24.0->pyreadstat) (2.8.1)\n",
            "Requirement already satisfied: numpy>=1.15.4 in /usr/local/lib/python3.7/dist-packages (from pandas>0.24.0->pyreadstat) (1.19.5)\n",
            "Requirement already satisfied: six>=1.5 in /usr/local/lib/python3.7/dist-packages (from python-dateutil>=2.7.3->pandas>0.24.0->pyreadstat) (1.15.0)\n",
            "Installing collected packages: pyreadstat\n",
            "Successfully installed pyreadstat-1.1.2\n"
          ],
          "name": "stdout"
        }
      ]
    },
    {
      "cell_type": "code",
      "metadata": {
        "colab": {
          "base_uri": "https://localhost:8080/"
        },
        "id": "rKDUG6jpQ2Ck",
        "outputId": "f19ea4d6-faf3-404a-a21d-e8a5c9774304"
      },
      "source": [
        "pip install pyspark"
      ],
      "execution_count": 3,
      "outputs": [
        {
          "output_type": "stream",
          "text": [
            "Collecting pyspark\n",
            "\u001b[?25l  Downloading https://files.pythonhosted.org/packages/89/db/e18cfd78e408de957821ec5ca56de1250645b05f8523d169803d8df35a64/pyspark-3.1.2.tar.gz (212.4MB)\n",
            "\u001b[K     |████████████████████████████████| 212.4MB 57kB/s \n",
            "\u001b[?25hCollecting py4j==0.10.9\n",
            "\u001b[?25l  Downloading https://files.pythonhosted.org/packages/9e/b6/6a4fb90cd235dc8e265a6a2067f2a2c99f0d91787f06aca4bcf7c23f3f80/py4j-0.10.9-py2.py3-none-any.whl (198kB)\n",
            "\u001b[K     |████████████████████████████████| 204kB 18.0MB/s \n",
            "\u001b[?25hBuilding wheels for collected packages: pyspark\n",
            "  Building wheel for pyspark (setup.py) ... \u001b[?25l\u001b[?25hdone\n",
            "  Created wheel for pyspark: filename=pyspark-3.1.2-py2.py3-none-any.whl size=212880768 sha256=156a6f649a54e9b94d789328d948336ae1e9de06a6534f2ddcd39f7847e4fa87\n",
            "  Stored in directory: /root/.cache/pip/wheels/40/1b/2c/30f43be2627857ab80062bef1527c0128f7b4070b6b2d02139\n",
            "Successfully built pyspark\n",
            "Installing collected packages: py4j, pyspark\n",
            "Successfully installed py4j-0.10.9 pyspark-3.1.2\n"
          ],
          "name": "stdout"
        }
      ]
    },
    {
      "cell_type": "code",
      "metadata": {
        "id": "_-MQeK-OEqjw"
      },
      "source": [
        "from pyspark.sql import SparkSession\n",
        "from pyspark import SparkContext, SparkConf\n",
        "\n",
        "# context config/setup \n",
        "sc = SparkContext(conf=SparkConf().setMaster('local[8]'))\n",
        "spark = SparkSession.builder.getOrCreate()\n",
        "spark.conf.set(\"spark.sql.execution.arrow.enabled\", \"true\")"
      ],
      "execution_count": 4,
      "outputs": []
    },
    {
      "cell_type": "code",
      "metadata": {
        "id": "fyGdVsmd31XO"
      },
      "source": [
        "import pyreadstat\n",
        "df, meta = pyreadstat.read_sav(\"/content/March 7-April 10, 2018 - Teens and Tech Survey - SPSS.sav\", apply_value_formats=False)"
      ],
      "execution_count": 10,
      "outputs": []
    },
    {
      "cell_type": "code",
      "metadata": {
        "id": "9olxk62u7A_P"
      },
      "source": [
        "import pandas as pd\n",
        "pd.set_option('display.max_columns', None)"
      ],
      "execution_count": 11,
      "outputs": []
    },
    {
      "cell_type": "markdown",
      "metadata": {
        "id": "tIFvXQs_feTO"
      },
      "source": [
        "Printing column names and their label names to get mapping understanding"
      ]
    },
    {
      "cell_type": "code",
      "metadata": {
        "id": "qpav23Xb7GUF"
      },
      "source": [
        "lables_to_cols = meta.column_names_to_labels\n",
        "\n",
        "#for key, value in lables_to_cols.items():\n",
        "  #print(key, \"|\", value, '\\n')"
      ],
      "execution_count": 12,
      "outputs": []
    },
    {
      "cell_type": "code",
      "metadata": {
        "id": "QULi3XTW23I0"
      },
      "source": [
        "df.groupby(\"FITIN\")['CASEID'].count()\n",
        "#df.count()"
      ],
      "execution_count": null,
      "outputs": []
    },
    {
      "cell_type": "code",
      "metadata": {
        "id": "e-4COnMl3o_t"
      },
      "source": [
        "from pyspark.sql.functions import col"
      ],
      "execution_count": 9,
      "outputs": []
    },
    {
      "cell_type": "code",
      "metadata": {
        "id": "uCI9yEWs6mfp"
      },
      "source": [
        "spark.conf.set(\"spark.sql.execution.arrow.pyspark.fallback.enabled\", \"true\")\n",
        "spark_df = spark.createDataFrame(df)"
      ],
      "execution_count": 13,
      "outputs": []
    },
    {
      "cell_type": "code",
      "metadata": {
        "colab": {
          "base_uri": "https://localhost:8080/"
        },
        "id": "yuiRANFiEFaa",
        "outputId": "84b41299-9aca-4d73-d1c1-642bdd76629f"
      },
      "source": [
        "#spark_df.show(10, truncate=True)\n",
        "spark_df.select(\"CASEID\", \"SOC1\", \"SOC1A_BAD_1\", \"SOC1A_BAD_2\", \"SOC1A_BAD_3\", \"SOC1A_BAD_4\", \"SOC1A_BAD_5\", \"SOC1A_BAD_6\", \"SOC1A_BAD_7\").show(n=5, truncate=False)"
      ],
      "execution_count": 11,
      "outputs": [
        {
          "output_type": "stream",
          "text": [
            "+------+----+-----------+-----------+-----------+-----------+-----------+-----------+-----------+\n",
            "|CASEID|SOC1|SOC1A_BAD_1|SOC1A_BAD_2|SOC1A_BAD_3|SOC1A_BAD_4|SOC1A_BAD_5|SOC1A_BAD_6|SOC1A_BAD_7|\n",
            "+------+----+-----------+-----------+-----------+-----------+-----------+-----------+-----------+\n",
            "|2.0   |3.0 |null       |null       |null       |null       |null       |null       |null       |\n",
            "|7.0   |2.0 |1.0        |null       |null       |null       |null       |null       |null       |\n",
            "|9.0   |3.0 |null       |null       |null       |null       |null       |null       |null       |\n",
            "|10.0  |2.0 |null       |null       |null       |1.0        |null       |null       |null       |\n",
            "|13.0  |2.0 |null       |1.0        |null       |null       |null       |null       |null       |\n",
            "+------+----+-----------+-----------+-----------+-----------+-----------+-----------+-----------+\n",
            "only showing top 5 rows\n",
            "\n"
          ],
          "name": "stdout"
        }
      ]
    },
    {
      "cell_type": "markdown",
      "metadata": {
        "id": "rG0rMqOyaSFG"
      },
      "source": [
        "**In Person - School Related Activities**\n",
        "\n",
        "25% teens show interest in meeting in person with their friends multiple times a week"
      ]
    },
    {
      "cell_type": "code",
      "metadata": {
        "colab": {
          "base_uri": "https://localhost:8080/",
          "height": 231
        },
        "id": "igN95jf3Wn_Y",
        "outputId": "1fa6bf82-5e95-483b-a24b-0e5f5559008d"
      },
      "source": [
        "import pyspark.sql.functions as f\n",
        "import matplotlib.pyplot as plt\n",
        "\n",
        "print(lables_to_cols['FRIEND1'])\n",
        "friend1 = spark_df.groupBy(\"FRIEND1\").count().select('FRIEND1', f.col('count').alias('cnt'))\n",
        "friend1 = friend1.selectExpr(\"FRIEND1\", \"CNT\",\" round((cnt / 743)*100, 2) as percentage\").sort(\"percentage\")\n",
        "pdf = friend1.toPandas()\n",
        "pdf.plot(x='FRIEND1', y='percentage', kind = 'bar')\n",
        "plt.show()"
      ],
      "execution_count": 7,
      "outputs": [
        {
          "output_type": "error",
          "ename": "NameError",
          "evalue": "ignored",
          "traceback": [
            "\u001b[0;31m---------------------------------------------------------------------------\u001b[0m",
            "\u001b[0;31mNameError\u001b[0m                                 Traceback (most recent call last)",
            "\u001b[0;32m<ipython-input-7-f4be6ff3e528>\u001b[0m in \u001b[0;36m<module>\u001b[0;34m()\u001b[0m\n\u001b[1;32m      2\u001b[0m \u001b[0;32mimport\u001b[0m \u001b[0mmatplotlib\u001b[0m\u001b[0;34m.\u001b[0m\u001b[0mpyplot\u001b[0m \u001b[0;32mas\u001b[0m \u001b[0mplt\u001b[0m\u001b[0;34m\u001b[0m\u001b[0;34m\u001b[0m\u001b[0m\n\u001b[1;32m      3\u001b[0m \u001b[0;34m\u001b[0m\u001b[0m\n\u001b[0;32m----> 4\u001b[0;31m \u001b[0mprint\u001b[0m\u001b[0;34m(\u001b[0m\u001b[0mlables_to_cols\u001b[0m\u001b[0;34m[\u001b[0m\u001b[0;34m'FRIEND1'\u001b[0m\u001b[0;34m]\u001b[0m\u001b[0;34m)\u001b[0m\u001b[0;34m\u001b[0m\u001b[0;34m\u001b[0m\u001b[0m\n\u001b[0m\u001b[1;32m      5\u001b[0m \u001b[0mfriend1\u001b[0m \u001b[0;34m=\u001b[0m \u001b[0mspark_df\u001b[0m\u001b[0;34m.\u001b[0m\u001b[0mgroupBy\u001b[0m\u001b[0;34m(\u001b[0m\u001b[0;34m\"FRIEND1\"\u001b[0m\u001b[0;34m)\u001b[0m\u001b[0;34m.\u001b[0m\u001b[0mcount\u001b[0m\u001b[0;34m(\u001b[0m\u001b[0;34m)\u001b[0m\u001b[0;34m.\u001b[0m\u001b[0mselect\u001b[0m\u001b[0;34m(\u001b[0m\u001b[0;34m'FRIEND1'\u001b[0m\u001b[0;34m,\u001b[0m \u001b[0mf\u001b[0m\u001b[0;34m.\u001b[0m\u001b[0mcol\u001b[0m\u001b[0;34m(\u001b[0m\u001b[0;34m'count'\u001b[0m\u001b[0;34m)\u001b[0m\u001b[0;34m.\u001b[0m\u001b[0malias\u001b[0m\u001b[0;34m(\u001b[0m\u001b[0;34m'cnt'\u001b[0m\u001b[0;34m)\u001b[0m\u001b[0;34m)\u001b[0m\u001b[0;34m\u001b[0m\u001b[0;34m\u001b[0m\u001b[0m\n\u001b[1;32m      6\u001b[0m \u001b[0mfriend1\u001b[0m \u001b[0;34m=\u001b[0m \u001b[0mfriend1\u001b[0m\u001b[0;34m.\u001b[0m\u001b[0mselectExpr\u001b[0m\u001b[0;34m(\u001b[0m\u001b[0;34m\"FRIEND1\"\u001b[0m\u001b[0;34m,\u001b[0m \u001b[0;34m\"CNT\"\u001b[0m\u001b[0;34m,\u001b[0m\u001b[0;34m\" round((cnt / 743)*100, 2) as percentage\"\u001b[0m\u001b[0;34m)\u001b[0m\u001b[0;34m.\u001b[0m\u001b[0msort\u001b[0m\u001b[0;34m(\u001b[0m\u001b[0;34m\"percentage\"\u001b[0m\u001b[0;34m)\u001b[0m\u001b[0;34m\u001b[0m\u001b[0;34m\u001b[0m\u001b[0m\n",
            "\u001b[0;31mNameError\u001b[0m: name 'lables_to_cols' is not defined"
          ]
        }
      ]
    },
    {
      "cell_type": "markdown",
      "metadata": {
        "id": "hlCNajFXof0o"
      },
      "source": [
        "**Online Meetings**\n",
        "\n",
        "60% of the teens wanted to talk every day through several modes"
      ]
    },
    {
      "cell_type": "code",
      "metadata": {
        "colab": {
          "base_uri": "https://localhost:8080/",
          "height": 325
        },
        "id": "pOGyfwQFZJA1",
        "outputId": "d5a811f8-ed2b-4db6-fa66-2dbc631091ca"
      },
      "source": [
        "print(lables_to_cols['FRIEND2'])\n",
        "friend2 = spark_df.groupBy(\"FRIEND2\").count().select('FRIEND2', f.col('count').alias('cnt'))\n",
        "friend2 = friend2.selectExpr(\"FRIEND2\", \"CNT\",\" round((cnt / 743)*100, 2) as percentage\").sort(\"percentage\")\n",
        "pdf = friend2.toPandas()\n",
        "pdf.plot(x='FRIEND2', y='percentage', kind = 'bar')"
      ],
      "execution_count": 14,
      "outputs": [
        {
          "output_type": "stream",
          "text": [
            "In a typical week, how often do you get together with friends...Online (including on your cellphone, on social media, or through online gaming)?\n"
          ],
          "name": "stdout"
        },
        {
          "output_type": "execute_result",
          "data": {
            "text/plain": [
              "<matplotlib.axes._subplots.AxesSubplot at 0x7f9e88f7ab90>"
            ]
          },
          "metadata": {
            "tags": []
          },
          "execution_count": 14
        },
        {
          "output_type": "display_data",
          "data": {
            "image/png": "[encoded data removed]",
            "text/plain": [
              "<Figure size 432x288 with 1 Axes>"
            ]
          },
          "metadata": {
            "tags": [],
            "needs_background": "light"
          }
        }
      ]
    },
    {
      "cell_type": "markdown",
      "metadata": {
        "id": "dBvUCw9ppDkb"
      },
      "source": [
        "**In Person**\n",
        "\n",
        "50% of the teens wanted to meet for about the right time to meet in person and only less than 10% wanted to engage more time."
      ]
    },
    {
      "cell_type": "code",
      "metadata": {
        "colab": {
          "base_uri": "https://localhost:8080/",
          "height": 319
        },
        "id": "fmbNmqhTnkq3",
        "outputId": "4e89aae5-5a80-440e-ffda-79472afd0bb3"
      },
      "source": [
        "print(lables_to_cols['FRIEND3'])\n",
        "friend3 = spark_df.groupBy(\"FRIEND3\").count().select('FRIEND3', f.col('count').alias('cnt'))\n",
        "friend3 = friend3.selectExpr(\"FRIEND3\", \"CNT\",\" round((cnt / 743)*100, 2) as percentage\").sort(\"percentage\")\n",
        "pdf = friend3.toPandas()\n",
        "pdf.plot(x='FRIEND3', y='percentage', kind = 'bar')"
      ],
      "execution_count": 15,
      "outputs": [
        {
          "output_type": "stream",
          "text": [
            "In general, how much time would you say you spend with your friends IN PERSON?\n"
          ],
          "name": "stdout"
        },
        {
          "output_type": "execute_result",
          "data": {
            "text/plain": [
              "<matplotlib.axes._subplots.AxesSubplot at 0x7f9e87d3a5d0>"
            ]
          },
          "metadata": {
            "tags": []
          },
          "execution_count": 15
        },
        {
          "output_type": "display_data",
          "data": {
            "image/png": "[encoded data removed]",
            "text/plain": [
              "<Figure size 432x288 with 1 Axes>"
            ]
          },
          "metadata": {
            "tags": [],
            "needs_background": "light"
          }
        }
      ]
    },
    {
      "cell_type": "markdown",
      "metadata": {
        "id": "KBswJa-eqru4"
      },
      "source": [
        "**Age**\n",
        "\n",
        "25% of the survey respondents are of 13 years old and 18% of them are 14 years old"
      ]
    },
    {
      "cell_type": "code",
      "metadata": {
        "colab": {
          "base_uri": "https://localhost:8080/",
          "height": 316
        },
        "id": "lfYK2Yj2pw11",
        "outputId": "ac9a59c7-4eb8-452c-8a43-4e337272ee41"
      },
      "source": [
        "print(lables_to_cols['AGE'])\n",
        "age = spark_df.groupBy(\"AGE\").count().select('AGE', f.col('count').alias('cnt'))\n",
        "age = age.selectExpr(\"AGE\", \"CNT\",\" round((cnt / 743)*100, 2) as percentage\").sort(\"percentage\")\n",
        "pdf = age.toPandas()\n",
        "pdf.plot(x='AGE', y='percentage', kind = 'bar')"
      ],
      "execution_count": 16,
      "outputs": [
        {
          "output_type": "stream",
          "text": [
            "Age - in years\n"
          ],
          "name": "stdout"
        },
        {
          "output_type": "execute_result",
          "data": {
            "text/plain": [
              "<matplotlib.axes._subplots.AxesSubplot at 0x7f9e87cb6ed0>"
            ]
          },
          "metadata": {
            "tags": []
          },
          "execution_count": 16
        },
        {
          "output_type": "display_data",
          "data": {
            "image/png": "[encoded data removed]",
            "text/plain": [
              "<Figure size 432x288 with 1 Axes>"
            ]
          },
          "metadata": {
            "tags": [],
            "needs_background": "light"
          }
        }
      ]
    },
    {
      "cell_type": "markdown",
      "metadata": {
        "id": "ikAwJADarxJ1"
      },
      "source": [
        "**Device**\n",
        "\n",
        "75% of teens use smartphone and less than 2 % use without any device\n"
      ]
    },
    {
      "cell_type": "code",
      "metadata": {
        "colab": {
          "base_uri": "https://localhost:8080/",
          "height": 364
        },
        "id": "Q6c4ees8rda7",
        "outputId": "3bec7ed5-d692-411d-818b-61e49a82ddc7"
      },
      "source": [
        "print(lables_to_cols['DEVICE'])\n",
        "device = spark_df.groupBy(\"DEVICE\").count().select('DEVICE', f.col('count').alias('cnt'))\n",
        "device = device.selectExpr(\"DEVICE\", \"CNT\",\" round((cnt / 743)*100, 2) as percentage\").sort(\"percentage\")\n",
        "pdf = device.toPandas()\n",
        "pdf.plot(x='DEVICE', y='percentage', kind = 'bar')"
      ],
      "execution_count": 17,
      "outputs": [
        {
          "output_type": "stream",
          "text": [
            "Device type\n"
          ],
          "name": "stdout"
        },
        {
          "output_type": "execute_result",
          "data": {
            "text/plain": [
              "<matplotlib.axes._subplots.AxesSubplot at 0x7f9e86fe2090>"
            ]
          },
          "metadata": {
            "tags": []
          },
          "execution_count": 17
        },
        {
          "output_type": "display_data",
          "data": {
            "image/png": "[encoded data removed]",
            "text/plain": [
              "<Figure size 432x288 with 1 Axes>"
            ]
          },
          "metadata": {
            "tags": [],
            "needs_background": "light"
          }
        }
      ]
    },
    {
      "cell_type": "markdown",
      "metadata": {
        "id": "4RSi_I2fkETA"
      },
      "source": [
        "**INTREQ**\n",
        "\n",
        "Almost 50% of teens wanted to stay online continuously either on computer, mobile phone; 40% of them wanted to stay online several times a day"
      ]
    },
    {
      "cell_type": "code",
      "metadata": {
        "colab": {
          "base_uri": "https://localhost:8080/",
          "height": 319
        },
        "id": "doP6Fp1KbfGz",
        "outputId": "8048a7af-000c-4590-cc2a-68896730d442"
      },
      "source": [
        "print(lables_to_cols['INTREQ'])\n",
        "intreq = spark_df.groupBy(\"INTREQ\").count().select('INTREQ', f.col('count').alias('cnt'))\n",
        "intreq = intreq.selectExpr(\"INTREQ\", \"CNT\",\" round((cnt / 743)*100, 2) as percentage\").sort(\"percentage\")\n",
        "pdf = intreq.toPandas()\n",
        "pdf.plot(x='INTREQ', y='percentage', kind = 'bar')"
      ],
      "execution_count": 18,
      "outputs": [
        {
          "output_type": "stream",
          "text": [
            "About how often do you use the internet, either on a computer or a cellphone?\n"
          ],
          "name": "stdout"
        },
        {
          "output_type": "execute_result",
          "data": {
            "text/plain": [
              "<matplotlib.axes._subplots.AxesSubplot at 0x7f9e86f65ad0>"
            ]
          },
          "metadata": {
            "tags": []
          },
          "execution_count": 18
        },
        {
          "output_type": "display_data",
          "data": {
            "image/png": "[encoded data removed]",
            "text/plain": [
              "<Figure size 432x288 with 1 Axes>"
            ]
          },
          "metadata": {
            "tags": [],
            "needs_background": "light"
          }
        }
      ]
    },
    {
      "cell_type": "markdown",
      "metadata": {
        "id": "HjHsvSsZl0Ko"
      },
      "source": [
        "**Gaming**\n",
        "\n",
        "More than 80% of the teens play video games"
      ]
    },
    {
      "cell_type": "code",
      "metadata": {
        "colab": {
          "base_uri": "https://localhost:8080/",
          "height": 319
        },
        "id": "C_uQMnJxk_zg",
        "outputId": "442fb20b-d48d-4a1a-9bb3-91b7fb7c4d9b"
      },
      "source": [
        "print(lables_to_cols['GAMING'])\n",
        "gaming = spark_df.groupBy(\"GAMING\").count().select('GAMING', f.col('count').alias('cnt'))\n",
        "gaming = gaming.selectExpr(\"GAMING\", \"CNT\",\" round((cnt / 743)*100, 2) as percentage\").sort(\"percentage\")\n",
        "pdf = gaming.toPandas()\n",
        "pdf.plot(x='GAMING', y='percentage', kind = 'bar')"
      ],
      "execution_count": 19,
      "outputs": [
        {
          "output_type": "stream",
          "text": [
            "Do you ever play video games – on a computer, game console or cellphone?\n"
          ],
          "name": "stdout"
        },
        {
          "output_type": "execute_result",
          "data": {
            "text/plain": [
              "<matplotlib.axes._subplots.AxesSubplot at 0x7f9e86edc390>"
            ]
          },
          "metadata": {
            "tags": []
          },
          "execution_count": 19
        },
        {
          "output_type": "display_data",
          "data": {
            "image/png": "[encoded data removed]",
            "text/plain": [
              "<Figure size 432x288 with 1 Axes>"
            ]
          },
          "metadata": {
            "tags": [],
            "needs_background": "light"
          }
        }
      ]
    },
    {
      "cell_type": "markdown",
      "metadata": {
        "id": "bPHNTLoUl_FN"
      },
      "source": [
        "**Social Media**\n",
        "\n",
        " \n",
        "1.   There are no teens who are using ALL the social media websites\n",
        "2.   3.5 % of the teens are using ALL the social media platforms except Reddit and Tumblr\n",
        "\n"
      ]
    },
    {
      "cell_type": "code",
      "metadata": {
        "colab": {
          "base_uri": "https://localhost:8080/",
          "height": 676
        },
        "id": "bhcKw4ycl-wb",
        "outputId": "68c8e621-b63e-4958-8d59-1fa3fa9d67ad"
      },
      "source": [
        "from pyspark.sql.functions import col, lit\n",
        "from functools import reduce\n",
        "from pyspark.sql import DataFrame\n",
        "import matplotlib.pyplot as plt \n",
        "import pandas as pd\n",
        "\n",
        "all_soc_media = spark_df.where((col(\"SNS1_1\") == 1.0) & (col(\"SNS1_2\") == 1.0) \n",
        "               & (col(\"SNS1_3\") == 1.0) & (col(\"SNS1_4\") == 1.0)\n",
        "               & (col(\"SNS1_5\") == 1.0) & (col(\"SNS1_6\") == 1.0) \n",
        "               & (col(\"SNS1_7\") == 1.0) & (col(\"SNS1_8\") == 1.0))\n",
        "\n",
        "all_except_reddit_and_tumblr = spark_df.where((col(\"SNS1_1\") == 1.0) & (col(\"SNS1_2\") == 1.0) \n",
        "               & (col(\"SNS1_3\") == 1.0) & (col(\"SNS1_4\") == 1.0)\n",
        "               & (col(\"SNS1_5\") == 1.0) & (col(\"SNS1_6\") == 1.0) \n",
        "               )\n",
        "\n",
        "df_count = spark_df.count()\n",
        "round((all_except_reddit_and_tumblr.count()/df_count)*100, 2)\n",
        "\n",
        "twitter = spark_df.groupBy(\"SNS1_1\").count().selectExpr(\"SNS1_1 as active_inactive\", \"count\").withColumn(\"some_platform\", lit(\"twitter\"))\n",
        "instagram = spark_df.groupBy(\"SNS1_2\").count().selectExpr(\"SNS1_2 as active_inactive\", \"count\").withColumn(\"some_platform\", lit(\"instagram\"))\n",
        "facebook = spark_df.groupBy(\"SNS1_3\").count().selectExpr(\"SNS1_3 as active_inactive\", \"count\").withColumn(\"some_platform\", lit(\"facebook\"))\n",
        "snapchat = spark_df.groupBy(\"SNS1_4\").count().selectExpr(\"SNS1_4 as active_inactive\",\"count\").withColumn(\"some_platform\", lit(\"snapchat\"))\n",
        "youtube = spark_df.groupBy(\"SNS1_5\").count().selectExpr(\"SNS1_5 as active_inactive\",\"count\").withColumn(\"some_platform\", lit(\"youtube\"))\n",
        "\n",
        "dfs = {twitter, instagram, facebook, snapchat, youtube}\n",
        "combined = reduce(DataFrame.union, dfs)\n",
        "combined_inactive = combined.filter(col(\"active_inactive\") == 0.0).selectExpr(\"active_inactive\", \"some_platform\", \"count\", \"round((count / 743)*100, 2) as percentage\").sort(\"percentage\")\n",
        "combined_active = combined.filter(col(\"active_inactive\") == 1.0).selectExpr(\"active_inactive\", \"some_platform\", \"count\", \"round((count / 743)*100, 2) as percentage\").sort(\"percentage\")\n",
        "pdf_inactive = combined_inactive.toPandas()\n",
        "pdf_active = combined_active.toPandas()\n",
        "pdf_inactive.plot(x = 'some_platform' , y = 'percentage',label = 'inactive_users',  kind = 'bar')\n",
        "pdf_active.plot(x = 'some_platform',y = 'percentage', label = 'active_users', kind = 'bar')\n",
        "\n",
        "print(\"all teens head count is \" , df_count)\n",
        "print(\"teens who are active on all  social media platform count is \" , all_soc_media.count())\n",
        "print(\"social media users except reddit and tumblr is \" ,round((all_except_reddit_and_tumblr.count()/df_count)*100, 2) , \"%\")"
      ],
      "execution_count": 18,
      "outputs": [
        {
          "output_type": "stream",
          "text": [
            "all teens head count is  743\n",
            "teens who are active on all  social media platform count is  0\n",
            "social media users except reddit and tumblr is  3.5 %\n"
          ],
          "name": "stdout"
        },
        {
          "output_type": "display_data",
          "data": {
            "image/png": "[encoded data removed]",
            "text/plain": [
              "<Figure size 432x288 with 1 Axes>"
            ]
          },
          "metadata": {
            "tags": [],
            "needs_background": "light"
          }
        },
        {
          "output_type": "display_data",
          "data": {
            "image/png": "[encoded data removed]",
            "text/plain": [
              "<Figure size 432x288 with 1 Axes>"
            ]
          },
          "metadata": {
            "tags": [],
            "needs_background": "light"
          }
        }
      ]
    },
    {
      "cell_type": "markdown",
      "metadata": {
        "id": "fOej7s2jfsGa"
      },
      "source": [
        "**Social Media Impact**\n",
        "\n",
        "1.   13% of teens use social media sites for communication among themselves and only less than 2% of them use for learning purpose\n",
        "2.   8% of teens gets bullied, 6% are harming their relationships whereas happiness is only 3%\n",
        "\n"
      ]
    },
    {
      "cell_type": "code",
      "metadata": {
        "colab": {
          "base_uri": "https://localhost:8080/",
          "height": 397
        },
        "id": "vrAtFgkO8Kvw",
        "outputId": "c3cc4514-6abf-416e-fae9-e6bc3a708901"
      },
      "source": [
        "communication = spark_df.where(col(\"SOC1A_GOOD_1\").isNotNull()).groupBy(\"SOC1A_GOOD_1\").count().select(\"SOC1A_GOOD_1\", f.col('count').alias('cnt')).withColumn(\"category\", lit(\"communication\")).withColumnRenamed(\"SOC1A_GOOD_1\", \"label\")\n",
        "meeting = spark_df.where(col(\"SOC1A_GOOD_2\").isNotNull()).groupBy(\"SOC1A_GOOD_2\").count().select(\"SOC1A_GOOD_2\", f.col('count').alias('cnt')).withColumn(\"category\", lit(\"meeting\")).withColumnRenamed(\"SOC1A_GOOD_2\", \"label\")\n",
        "support = spark_df.where(col(\"SOC1A_GOOD_3\").isNotNull()).groupBy(\"SOC1A_GOOD_3\").count().select(\"SOC1A_GOOD_3\", f.col('count').alias('cnt')).withColumn(\"category\", lit(\"support\")).withColumnRenamed(\"SOC1A_GOOD_3\", \"label\")\n",
        "learning = spark_df.where(col(\"SOC1A_GOOD_4\").isNotNull()).groupBy(\"SOC1A_GOOD_4\").count().select(\"SOC1A_GOOD_4\", f.col('count').alias('cnt')).withColumn(\"category\", lit(\"learning\")).withColumnRenamed(\"SOC1A_GOOD_4\", \"label\")\n",
        "information = spark_df.where(col(\"SOC1A_GOOD_5\").isNotNull()).groupBy(\"SOC1A_GOOD_5\").count().select(\"SOC1A_GOOD_5\", f.col('count').alias('cnt')).withColumn(\"category\", lit(\"information\")).withColumnRenamed(\"SOC1A_GOOD_5\", \"label\")\n",
        "self_expression = spark_df.where(col(\"SOC1A_GOOD_6\").isNotNull()).groupBy(\"SOC1A_GOOD_6\").count().select(\"SOC1A_GOOD_6\", f.col('count').alias('cnt')).withColumn(\"category\", lit(\"self_expression\")).withColumnRenamed(\"SOC1A_GOOD_6\", \"label\")\n",
        "happiness = spark_df.where(col(\"SOC1A_GOOD_7\").isNotNull()).groupBy(\"SOC1A_GOOD_7\").count().select(\"SOC1A_GOOD_7\", f.col('count').alias('cnt')).withColumn(\"category\", lit(\"happiness\")).withColumnRenamed(\"SOC1A_GOOD_7\", \"label\")\n",
        "\n",
        "dfs_good_social = {communication, meeting, support, learning, information, self_expression, happiness}\n",
        "combined_good_social = reduce(DataFrame.union, dfs_good_social)\n",
        "combined_good_social = combined_good_social.selectExpr(\"round((cnt/743)*100, 2) as percentage\", \"category\").sort(\"percentage\")\n",
        "\n",
        "psychological_issue = spark_df.where(col(\"SOC1A_BAD_1\").isNotNull()).groupBy(\"SOC1A_BAD_1\").count().select(\"SOC1A_BAD_1\", f.col('count').alias('cnt')).withColumn(\"category\", lit(\"psychological_issue\")).withColumnRenamed(\"SOC1A_BAD_1\", \"label\")\n",
        "bullying = spark_df.where(col(\"SOC1A_BAD_2\").isNotNull()).groupBy(\"SOC1A_BAD_2\").count().select(\"SOC1A_BAD_2\", f.col('count').alias('cnt')).withColumn(\"category\", lit(\"bullying\")).withColumnRenamed(\"SOC1A_BAD_2\", \"label\")\n",
        "addiction = spark_df.where(col(\"SOC1A_BAD_3\").isNotNull()).groupBy(\"SOC1A_BAD_3\").count().select(\"SOC1A_BAD_3\", f.col('count').alias('cnt')).withColumn(\"category\", lit(\"addiction\")).withColumnRenamed(\"SOC1A_BAD_3\", \"label\")\n",
        "harming_relationships = spark_df.where(col(\"SOC1A_BAD_4\").isNotNull()).groupBy(\"SOC1A_BAD_4\").count().select(\"SOC1A_BAD_4\", f.col('count').alias('cnt')).withColumn(\"category\", lit(\"harming_relationships\")).withColumnRenamed(\"SOC1A_BAD_4\", \"label\")\n",
        "influenced = spark_df.where(col(\"SOC1A_BAD_5\").isNotNull()).groupBy(\"SOC1A_BAD_5\").count().select(\"SOC1A_BAD_5\", f.col('count').alias('cnt')).withColumn(\"category\", lit(\"influenced\")).withColumnRenamed(\"SOC1A_BAD_5\", \"label\")\n",
        "comparison = spark_df.where(col(\"SOC1A_BAD_6\").isNotNull()).groupBy(\"SOC1A_BAD_6\").count().select(\"SOC1A_BAD_6\", f.col('count').alias('cnt')).withColumn(\"category\", lit(\"comparison\")).withColumnRenamed(\"SOC1A_BAD_6\", \"label\")\n",
        "drama = spark_df.where(col(\"SOC1A_BAD_7\").isNotNull()).groupBy(\"SOC1A_BAD_7\").count().select(\"SOC1A_BAD_7\", f.col('count').alias('cnt')).withColumn(\"category\", lit(\"drama\")).withColumnRenamed(\"SOC1A_BAD_7\", \"label\")\n",
        "\n",
        "dfs_bad_social = {psychological_issue, bullying, addiction, harming_relationships, influenced, comparison, drama}\n",
        "combined_bad_social = reduce(DataFrame.union, dfs_bad_social)\n",
        "combined_bad_social = combined_bad_social.selectExpr(\"round((cnt/743)*100, 2) as percentage\", \"category\").sort(\"percentage\")\n",
        "\n",
        "combined_social_dfs = {combined_good_social, combined_bad_social}\n",
        "combined_social = reduce(DataFrame.union, combined_social_dfs).sort(\"percentage\")\n",
        "#combined_social.show()\n",
        "pdf = combined_social.toPandas()\n",
        "pdf.plot(x = 'category', y = 'percentage', kind = 'bar')\n"
      ],
      "execution_count": 54,
      "outputs": [
        {
          "output_type": "execute_result",
          "data": {
            "text/plain": [
              "<matplotlib.axes._subplots.AxesSubplot at 0x7f4f52eb1050>"
            ]
          },
          "metadata": {
            "tags": []
          },
          "execution_count": 54
        },
        {
          "output_type": "display_data",
          "data": {
            "image/png": "[encoded data removed]",
            "text/plain": [
              "<Figure size 432x288 with 1 Axes>"
            ]
          },
          "metadata": {
            "tags": [],
            "needs_background": "light"
          }
        }
      ]
    },
    {
      "cell_type": "markdown",
      "metadata": {
        "id": "k36vdM19kauW"
      },
      "source": [
        "Similarly for next group of questions belonging to a category, can be grouped and analysis can be found out. "
      ]
    },
    {
      "cell_type": "markdown",
      "metadata": {
        "id": "OcSz81bUkoCV"
      },
      "source": [
        "**System Design**\n",
        "\n",
        "Entire python code can be put into a single file and we could create multiple tables dependeing on the category. \n",
        "Each category can be visualized on the dashboard like PowerBI or Tableau. \n",
        "The entire python code can be put into a scheduler tool like creating a batch job. We can either create multiple partitions for the tables and use the partition values against the labels to show case the differences.\n",
        "For eg., if the spss file is recieved every week - this file can be put into a unix server. Based on the agreed file recieved time, after 30 min or so, our python job should read this file and create the tables. Entire python job is currently taking less than 10 min for fewer categories. If we have all the categories established, we can think of an hour for batch job completion and soon after that time, PowerBI report can be scheduled for refresh.  Through this way - we can automate end2end job as a batch offering. \n",
        "For real time, we should recieve data in API of these feeds and create the batch job accordingly and PowerBi refresh.\n"
      ]
    }
  ]
}